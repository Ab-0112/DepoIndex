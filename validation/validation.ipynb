{
 "cells": [
  {
   "cell_type": "code",
   "execution_count": 34,
   "id": "cad16ea4",
   "metadata": {},
   "outputs": [],
   "source": [
    "import os\n",
    "import json\n",
    "import random\n",
    "from pathlib import Path\n",
    "import pandas as pd\n",
    "import google.generativeai as genai\n",
    "import pdfplumber\n",
    "\n",
    "# 🔑 Set up Gemini\n",
    "GEMINI_KEY = os.getenv(\"GEMINI_API_KEY\")\n",
    "genai.configure(api_key=GEMINI_KEY)\n",
    "model = genai.GenerativeModel(\"gemini-1.5-pro\")"
   ]
  },
  {
   "cell_type": "code",
   "execution_count": 35,
   "id": "e0f7967d",
   "metadata": {},
   "outputs": [],
   "source": [
    "# 📁 Paths\n",
    "pdf_path = Path(\"../data/example_1.pdf\")\n",
    "topics_path = Path(\"../data/topics.json\")\n",
    "\n",
    "# 📄 Load topics\n",
    "with open(topics_path, \"r\", encoding=\"utf-8\") as f:\n",
    "    topics = json.load(f)\n",
    "\n",
    "# 📑 Load PDF pages (with layout for better line fidelity)\n",
    "with pdfplumber.open(pdf_path) as pdf:\n",
    "    pages = [page.extract_text(layout=True) for page in pdf.pages]\n"
   ]
  },
  {
   "cell_type": "code",
   "execution_count": 36,
   "id": "888ccf87",
   "metadata": {},
   "outputs": [],
   "source": [
    "# 🎯 Sample 10 topics\n",
    "sampled = random.sample(topics, 10)\n",
    "\n",
    "# 📜 Gemini prompt template\n",
    "VALIDATION_PROMPT = \"\"\"\n",
    "You are a legal analyst verifying whether the following topic begins at the given page and line in a deposition transcript.\n",
    "\n",
    "Return only one of the following:\n",
    "✅ MATCH\n",
    "❌ NO MATCH\n",
    "\n",
    "Topic to verify: {topic_name}\n",
    "Claimed page number: {page_num}\n",
    "Claimed line number: {line_num}\n",
    "\n",
    "Transcript (Page {page_num}):\n",
    "{page_text}\n",
    "\"\"\""
   ]
  },
  {
   "cell_type": "code",
   "execution_count": 37,
   "id": "cbf4ae9e",
   "metadata": {},
   "outputs": [],
   "source": [
    "# ✅ Validate topics\n",
    "results = []\n",
    "for topic in sampled:\n",
    "    topic_name = topic.get(\"topic\")\n",
    "    page_num = topic.get(\"page_start\")\n",
    "    line_num = topic.get(\"line_start\")\n",
    "\n",
    "    # Skip incomplete entries\n",
    "    if not topic_name or not page_num or not line_num:\n",
    "        continue\n",
    "\n",
    "    try:\n",
    "        page_text = pages[page_num - 1]  # pages are 0-indexed\n",
    "    except IndexError:\n",
    "        continue\n",
    "\n",
    "    prompt = VALIDATION_PROMPT.format(\n",
    "        topic_name=topic_name,\n",
    "        page_num=page_num,\n",
    "        line_num=line_num,\n",
    "        page_text=page_text\n",
    "    )\n",
    "\n",
    "    try:\n",
    "        response = model.generate_content(prompt)\n",
    "        result = response.text.strip().split(\"\\n\")[0]  # first line only\n",
    "    except Exception as e:\n",
    "        result = f\"❌ Gemini Error: {str(e)}\"\n",
    "\n",
    "    results.append({\n",
    "        \"Topic\": topic_name,\n",
    "        \"Page\": page_num,\n",
    "        \"Line\": line_num,\n",
    "        \"Gemini Review\": result\n",
    "    })"
   ]
  },
  {
   "cell_type": "code",
   "execution_count": 39,
   "id": "b3dab4b7",
   "metadata": {},
   "outputs": [
    {
     "name": "stdout",
     "output_type": "stream",
     "text": [
      "\n",
      "✅ 0 / 10 topics matched\n",
      "🎯 Validation Accuracy: 0.0%\n"
     ]
    },
    {
     "data": {
      "application/vnd.microsoft.datawrangler.viewer.v0+json": {
       "columns": [
        {
         "name": "index",
         "rawType": "int64",
         "type": "integer"
        },
        {
         "name": "Topic",
         "rawType": "object",
         "type": "string"
        },
        {
         "name": "Page",
         "rawType": "int64",
         "type": "integer"
        },
        {
         "name": "Line",
         "rawType": "int64",
         "type": "integer"
        },
        {
         "name": "Gemini Review",
         "rawType": "object",
         "type": "string"
        }
       ],
       "ref": "063bfb0a-4ab4-4a57-9591-e4b67a90ecd6",
       "rows": [
        [
         "0",
         "Article Date",
         "150",
         "5",
         "❌ Gemini Error: 429 You exceeded your current quota, please check your plan and billing details. For more information on this error, head to: https://ai.google.dev/gemini-api/docs/rate-limits. [violations {\n}\nviolations {\n}\nviolations {\n}\n, links {\n  description: \"Learn more about Gemini API quotas\"\n  url: \"https://ai.google.dev/gemini-api/docs/rate-limits\"\n}\n, retry_delay {\n  seconds: 53\n}\n]"
        ],
        [
         "1",
         "Difficulty Securing Credit and Loan Renewals",
         "29",
         "20",
         "❌ Gemini Error: 429 You exceeded your current quota, please check your plan and billing details. For more information on this error, head to: https://ai.google.dev/gemini-api/docs/rate-limits. [violations {\n}\nviolations {\n}\nviolations {\n}\n, links {\n  description: \"Learn more about Gemini API quotas\"\n  url: \"https://ai.google.dev/gemini-api/docs/rate-limits\"\n}\n, retry_delay {\n  seconds: 52\n}\n]"
        ],
        [
         "2",
         "Bipartisan Farm Bill",
         "7",
         "57",
         "❌ Gemini Error: 429 You exceeded your current quota, please check your plan and billing details. For more information on this error, head to: https://ai.google.dev/gemini-api/docs/rate-limits. [violations {\n}\nviolations {\n}\nviolations {\n}\n, links {\n  description: \"Learn more about Gemini API quotas\"\n  url: \"https://ai.google.dev/gemini-api/docs/rate-limits\"\n}\n, retry_delay {\n  seconds: 52\n}\n]"
        ],
        [
         "3",
         "Adverse Effect Wage Rate (AEWR) for H-2A Program",
         "126",
         "67",
         "❌ Gemini Error: 429 You exceeded your current quota, please check your plan and billing details. For more information on this error, head to: https://ai.google.dev/gemini-api/docs/rate-limits. [violations {\n}\nviolations {\n}\nviolations {\n}\n, links {\n  description: \"Learn more about Gemini API quotas\"\n  url: \"https://ai.google.dev/gemini-api/docs/rate-limits\"\n}\n, retry_delay {\n  seconds: 51\n}\n]"
        ],
        [
         "4",
         "Rising Input Costs",
         "28",
         "19",
         "❌ Gemini Error: 429 You exceeded your current quota, please check your plan and billing details. For more information on this error, head to: https://ai.google.dev/gemini-api/docs/rate-limits. [violations {\n}\nviolations {\n}\nviolations {\n}\n, links {\n  description: \"Learn more about Gemini API quotas\"\n  url: \"https://ai.google.dev/gemini-api/docs/rate-limits\"\n}\n, retry_delay {\n  seconds: 50\n}\n]"
        ],
        [
         "5",
         "Commodity Prices and Export Markets",
         "119",
         "62",
         "❌ Gemini Error: 429 You exceeded your current quota, please check your plan and billing details. For more information on this error, head to: https://ai.google.dev/gemini-api/docs/rate-limits. [violations {\n}\nviolations {\n}\nviolations {\n}\n, links {\n  description: \"Learn more about Gemini API quotas\"\n  url: \"https://ai.google.dev/gemini-api/docs/rate-limits\"\n}\n, retry_delay {\n  seconds: 49\n}\n]"
        ],
        [
         "6",
         "Australian Trade Deals and Nut Exports",
         "126",
         "33",
         "❌ Gemini Error: 429 You exceeded your current quota, please check your plan and billing details. For more information on this error, head to: https://ai.google.dev/gemini-api/docs/rate-limits. [violations {\n}\nviolations {\n}\nviolations {\n}\n, links {\n  description: \"Learn more about Gemini API quotas\"\n  url: \"https://ai.google.dev/gemini-api/docs/rate-limits\"\n}\n, retry_delay {\n  seconds: 49\n}\n]"
        ],
        [
         "7",
         "Use of Data in Policy Decisions",
         "91",
         "83",
         "❌ Gemini Error: 429 You exceeded your current quota, please check your plan and billing details. For more information on this error, head to: https://ai.google.dev/gemini-api/docs/rate-limits. [violations {\n}\nviolations {\n}\nviolations {\n}\n, links {\n  description: \"Learn more about Gemini API quotas\"\n  url: \"https://ai.google.dev/gemini-api/docs/rate-limits\"\n}\n, retry_delay {\n  seconds: 48\n}\n]"
        ],
        [
         "8",
         "State of the Beef Cattle Industry",
         "18",
         "47",
         "❌ Gemini Error: 429 You exceeded your current quota, please check your plan and billing details. For more information on this error, head to: https://ai.google.dev/gemini-api/docs/rate-limits. [violations {\n}\nviolations {\n}\nviolations {\n}\n, links {\n  description: \"Learn more about Gemini API quotas\"\n  url: \"https://ai.google.dev/gemini-api/docs/rate-limits\"\n}\n, retry_delay {\n  seconds: 47\n}\n]"
        ],
        [
         "9",
         "Decline in Net Cash Farm Income for Crop Farmers",
         "11",
         "50",
         "❌ Gemini Error: 429 You exceeded your current quota, please check your plan and billing details. For more information on this error, head to: https://ai.google.dev/gemini-api/docs/rate-limits. [violations {\n}\nviolations {\n}\nviolations {\n}\n, links {\n  description: \"Learn more about Gemini API quotas\"\n  url: \"https://ai.google.dev/gemini-api/docs/rate-limits\"\n}\n, retry_delay {\n  seconds: 47\n}\n]"
        ]
       ],
       "shape": {
        "columns": 4,
        "rows": 10
       }
      },
      "text/html": [
       "<div>\n",
       "<style scoped>\n",
       "    .dataframe tbody tr th:only-of-type {\n",
       "        vertical-align: middle;\n",
       "    }\n",
       "\n",
       "    .dataframe tbody tr th {\n",
       "        vertical-align: top;\n",
       "    }\n",
       "\n",
       "    .dataframe thead th {\n",
       "        text-align: right;\n",
       "    }\n",
       "</style>\n",
       "<table border=\"1\" class=\"dataframe\">\n",
       "  <thead>\n",
       "    <tr style=\"text-align: right;\">\n",
       "      <th></th>\n",
       "      <th>Topic</th>\n",
       "      <th>Page</th>\n",
       "      <th>Line</th>\n",
       "      <th>Gemini Review</th>\n",
       "    </tr>\n",
       "  </thead>\n",
       "  <tbody>\n",
       "    <tr>\n",
       "      <th>0</th>\n",
       "      <td>Article Date</td>\n",
       "      <td>150</td>\n",
       "      <td>5</td>\n",
       "      <td>❌ Gemini Error: 429 You exceeded your current ...</td>\n",
       "    </tr>\n",
       "    <tr>\n",
       "      <th>1</th>\n",
       "      <td>Difficulty Securing Credit and Loan Renewals</td>\n",
       "      <td>29</td>\n",
       "      <td>20</td>\n",
       "      <td>❌ Gemini Error: 429 You exceeded your current ...</td>\n",
       "    </tr>\n",
       "    <tr>\n",
       "      <th>2</th>\n",
       "      <td>Bipartisan Farm Bill</td>\n",
       "      <td>7</td>\n",
       "      <td>57</td>\n",
       "      <td>❌ Gemini Error: 429 You exceeded your current ...</td>\n",
       "    </tr>\n",
       "    <tr>\n",
       "      <th>3</th>\n",
       "      <td>Adverse Effect Wage Rate (AEWR) for H-2A Program</td>\n",
       "      <td>126</td>\n",
       "      <td>67</td>\n",
       "      <td>❌ Gemini Error: 429 You exceeded your current ...</td>\n",
       "    </tr>\n",
       "    <tr>\n",
       "      <th>4</th>\n",
       "      <td>Rising Input Costs</td>\n",
       "      <td>28</td>\n",
       "      <td>19</td>\n",
       "      <td>❌ Gemini Error: 429 You exceeded your current ...</td>\n",
       "    </tr>\n",
       "    <tr>\n",
       "      <th>5</th>\n",
       "      <td>Commodity Prices and Export Markets</td>\n",
       "      <td>119</td>\n",
       "      <td>62</td>\n",
       "      <td>❌ Gemini Error: 429 You exceeded your current ...</td>\n",
       "    </tr>\n",
       "    <tr>\n",
       "      <th>6</th>\n",
       "      <td>Australian Trade Deals and Nut Exports</td>\n",
       "      <td>126</td>\n",
       "      <td>33</td>\n",
       "      <td>❌ Gemini Error: 429 You exceeded your current ...</td>\n",
       "    </tr>\n",
       "    <tr>\n",
       "      <th>7</th>\n",
       "      <td>Use of Data in Policy Decisions</td>\n",
       "      <td>91</td>\n",
       "      <td>83</td>\n",
       "      <td>❌ Gemini Error: 429 You exceeded your current ...</td>\n",
       "    </tr>\n",
       "    <tr>\n",
       "      <th>8</th>\n",
       "      <td>State of the Beef Cattle Industry</td>\n",
       "      <td>18</td>\n",
       "      <td>47</td>\n",
       "      <td>❌ Gemini Error: 429 You exceeded your current ...</td>\n",
       "    </tr>\n",
       "    <tr>\n",
       "      <th>9</th>\n",
       "      <td>Decline in Net Cash Farm Income for Crop Farmers</td>\n",
       "      <td>11</td>\n",
       "      <td>50</td>\n",
       "      <td>❌ Gemini Error: 429 You exceeded your current ...</td>\n",
       "    </tr>\n",
       "  </tbody>\n",
       "</table>\n",
       "</div>"
      ],
      "text/plain": [
       "                                              Topic  Page  Line  \\\n",
       "0                                      Article Date   150     5   \n",
       "1      Difficulty Securing Credit and Loan Renewals    29    20   \n",
       "2                              Bipartisan Farm Bill     7    57   \n",
       "3  Adverse Effect Wage Rate (AEWR) for H-2A Program   126    67   \n",
       "4                                Rising Input Costs    28    19   \n",
       "5               Commodity Prices and Export Markets   119    62   \n",
       "6            Australian Trade Deals and Nut Exports   126    33   \n",
       "7                   Use of Data in Policy Decisions    91    83   \n",
       "8                 State of the Beef Cattle Industry    18    47   \n",
       "9  Decline in Net Cash Farm Income for Crop Farmers    11    50   \n",
       "\n",
       "                                       Gemini Review  \n",
       "0  ❌ Gemini Error: 429 You exceeded your current ...  \n",
       "1  ❌ Gemini Error: 429 You exceeded your current ...  \n",
       "2  ❌ Gemini Error: 429 You exceeded your current ...  \n",
       "3  ❌ Gemini Error: 429 You exceeded your current ...  \n",
       "4  ❌ Gemini Error: 429 You exceeded your current ...  \n",
       "5  ❌ Gemini Error: 429 You exceeded your current ...  \n",
       "6  ❌ Gemini Error: 429 You exceeded your current ...  \n",
       "7  ❌ Gemini Error: 429 You exceeded your current ...  \n",
       "8  ❌ Gemini Error: 429 You exceeded your current ...  \n",
       "9  ❌ Gemini Error: 429 You exceeded your current ...  "
      ]
     },
     "execution_count": 39,
     "metadata": {},
     "output_type": "execute_result"
    }
   ],
   "source": [
    "# 📊 Save and show results\n",
    "df_results = pd.DataFrame(results)\n",
    "os.makedirs(\"data\", exist_ok=True)\n",
    "df_results.to_csv(\"data/validation_results.csv\", index=False)\n",
    "\n",
    "# 🎯 Calculate accuracy\n",
    "match_count = df_results[\"Gemini Review\"].str.strip().eq(\"✅ MATCH\").sum()\n",
    "total = len(df_results)\n",
    "accuracy = round((match_count / total) * 100, 2) if total else 0.0\n",
    "\n",
    "print(f\"\\n✅ {match_count} / {total} topics matched\")\n",
    "print(f\"🎯 Validation Accuracy: {accuracy}%\")\n",
    "\n",
    "df_results"
   ]
  },
  {
   "cell_type": "code",
   "execution_count": null,
   "id": "43929469",
   "metadata": {},
   "outputs": [],
   "source": []
  }
 ],
 "metadata": {
  "kernelspec": {
   "display_name": "Intern",
   "language": "python",
   "name": "python3"
  },
  "language_info": {
   "codemirror_mode": {
    "name": "ipython",
    "version": 3
   },
   "file_extension": ".py",
   "mimetype": "text/x-python",
   "name": "python",
   "nbconvert_exporter": "python",
   "pygments_lexer": "ipython3",
   "version": "3.12.9"
  }
 },
 "nbformat": 4,
 "nbformat_minor": 5
}
