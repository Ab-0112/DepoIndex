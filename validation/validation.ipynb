{
 "cells": [
  {
   "cell_type": "code",
   "execution_count": 3,
   "id": "fab6c912",
   "metadata": {},
   "outputs": [
    {
     "data": {
      "text/plain": [
       "[{'topic': 'State of the Dairy Industry', 'page_start': 18, 'line_start': 1},\n",
       " {'topic': 'Impact of Specialty Crops on National Security',\n",
       "  'page_start': 31,\n",
       "  'line_start': 47}]"
      ]
     },
     "execution_count": 3,
     "metadata": {},
     "output_type": "execute_result"
    }
   ],
   "source": [
    "import json\n",
    "import random\n",
    "from pathlib import Path\n",
    "\n",
    "# Paths\n",
    "topics_path = Path(\"../data/topics.json\")\n",
    "pdf_path = Path(\"../data/example_1.pdf\")\n",
    "\n",
    "# Load topics\n",
    "with open(topics_path, \"r\", encoding=\"utf-8\") as f:\n",
    "    topics = json.load(f)\n",
    "\n",
    "# Sample 10 topics\n",
    "sampled_topics = random.sample(topics, 10)\n",
    "sampled_topics[:2]  # Preview 2 rows\n"
   ]
  },
  {
   "cell_type": "code",
   "execution_count": 4,
   "id": "fe28b99c",
   "metadata": {},
   "outputs": [],
   "source": [
    "import pdfplumber\n",
    "\n",
    "def get_line_window_from_pdf(pdf_path, page_num, line_num, window=5):\n",
    "    with pdfplumber.open(pdf_path) as pdf:\n",
    "        if page_num - 1 >= len(pdf.pages):\n",
    "            return f\"⚠️ Page {page_num} not found in PDF.\"\n",
    "        page = pdf.pages[page_num - 1]\n",
    "        text = page.extract_text()\n",
    "        if not text:\n",
    "            return f\"⚠️ No text found on page {page_num}.\"\n",
    "        lines = text.splitlines()\n",
    "        start = max(0, line_num - window - 1)\n",
    "        end = min(len(lines), line_num + window)\n",
    "        excerpt = \"\\n\".join(lines[start:end])\n",
    "        return excerpt\n"
   ]
  },
  {
   "cell_type": "code",
   "execution_count": 5,
   "id": "c50f558e",
   "metadata": {},
   "outputs": [
    {
     "data": {
      "application/vnd.microsoft.datawrangler.viewer.v0+json": {
       "columns": [
        {
         "name": "index",
         "rawType": "int64",
         "type": "integer"
        },
        {
         "name": "topic",
         "rawType": "object",
         "type": "string"
        },
        {
         "name": "page",
         "rawType": "int64",
         "type": "integer"
        },
        {
         "name": "line",
         "rawType": "int64",
         "type": "integer"
        },
        {
         "name": "excerpt",
         "rawType": "object",
         "type": "string"
        }
       ],
       "ref": "a1e3775a-a03f-4579-b34f-73ea7d12340a",
       "rows": [
        [
         "0",
         "State of the Dairy Industry",
         "18",
         "1",
         "14\nFMD—providing increased opportunities for farmers, ranchers and their collabo-\nrating organizations to close the gap in our agricultural trade deficit in the years\nto come.17\nUnder the current Administration, tariffs are either in effect or under consider-\nation in major U.S. agricultural export markets. Although none of these markets"
        ],
        [
         "1",
         "Impact of Specialty Crops on National Security",
         "31",
         "47",
         "functional safety net for the very first time.\nI don’t have the time to walk through each of these proposals in\nmy testimony, but we have submitted written testimony for record,\nwhich includes a copy of our 2023 recommendations. We will pro-\nvide updated recommendations to you in the coming weeks. The Al-\nliance stands ready to work with each of you on the next farm bill.\nThank you, and I look forward to answering any questions.\n[The prepared statement of Mr. Talley follows:]\nPREPAREDSTATEMENTOFRYANTALLEY, PARTNER, TALLEYFARMS, ARROYOGRANDE,\nCA; ONBEHALFOFSPECIALTYCROPFARMBILLALLIANCE\nThank you, Chairman Thompson, Ranking Member Craig, and Members of the"
        ],
        [
         "2",
         "Competitiveness and Sustainability Principle",
         "33",
         "41",
         "ance that would provide the majority of our growers with a functional safety net\nfor the very first time. We are also proposing needed reforms to Federal procure-\nment rules that would increase the availability in Federal programs of the nutri-\ntious foods our growers produce and that Americans should be consuming in greater\nquantities.\nThe appendix attached to this testimony includes the 2023 Specialty Crop Farm\nBill Alliance Recommendations1 which were approved in January of that year. The\nAlliance is in the process of updating these recommendations for the new Congress,\nand we plan to provide those to you in the coming weeks. Although the new rec-\nommendations will be substantially similar to the ones we are providing today, nec-\nessary alterations are being made to reflect lessons learned and changed cir-"
        ],
        [
         "3",
         "Competition from Imports",
         "30",
         "34",
         "The economic and disaster assistance from the year-end Continuing Resolution\nwas helpful and will provide many farm and ranch families with the ability to con-\ntinue operating for another year. We are grateful this Committee voted in a bipar-\ntisan manner to advance a modernized farm bill last year. Unfortunately, there\nwere no further outcomes. We still need Congress to take action together and agree\non significant investments in farm safety net programs to reflect current economic\nconditions as well as long term solutions for rising input costs and volatile markets.\nOur food system, rural communities, and our national security depend on it.\nThank you for the opportunity to share these challenges. I look forward to your\nquestions.\nThe CHAIRMAN. Thank you, Ms. Schwertner."
        ],
        [
         "4",
         "Agriculture Risk Coverage (ARC) and Price Loss Coverage (PLC)",
         "17",
         "55",
         ""
        ],
        [
         "5",
         "Trump Administration's COVID-19 Assistance Initiatives (CFAP 2)",
         "32",
         "5",
         "28\nIntroduction\nAlthough not directly under the jurisdiction of the Agriculture Committee, I can-\nnot testify before Congress without first emphasizing how vital it is to the security\nof our nation’s food supply, and the future of specialty crop production in the United\nStates, for Congress to enact a bipartisan solution to the workforce crisis in agri-\nculture. Labor represents more than half the cost of producing many specialty crops,\nand this continually escalating expense is untenable.\nI am testifying today, however, on behalf of the Specialty Crop Farm Bill Alliance.\nA coalition of nearly two hundred organizations representing the entirety of the spe-"
        ],
        [
         "6",
         "Crop Protection Tools Access",
         "30",
         "32",
         "have worked for. This includes the ability to pass on our legacy and profession to\nthe next generation. For us, that happens to be our four boys.\nThe economic and disaster assistance from the year-end Continuing Resolution\nwas helpful and will provide many farm and ranch families with the ability to con-\ntinue operating for another year. We are grateful this Committee voted in a bipar-\ntisan manner to advance a modernized farm bill last year. Unfortunately, there\nwere no further outcomes. We still need Congress to take action together and agree\non significant investments in farm safety net programs to reflect current economic\nconditions as well as long term solutions for rising input costs and volatile markets.\nOur food system, rural communities, and our national security depend on it.\nThank you for the opportunity to share these challenges. I look forward to your"
        ],
        [
         "7",
         "Diversification of Farm Income",
         "29",
         "24",
         "volatile markets. Our food system, rural communities, and our na-\ntional security depend on it.\nThank you for the opportunity to share these challenges, and I\nlook forward to your questions.\n[The prepared statement of Ms. Schwertner follows:]\nPREPAREDSTATEMENTOFALISHASCHWERTNER, OWNER, ERICANDALISHA\nSCHWERTNERFARMS, MILES, TX\nChairman Thompson, Ranking Member Craig, and Members of the House Agri-\nculture Committee, I am truly grateful for the opportunity to testify today on the\nstate of the farm economy.\nMy name is Alisha Schwertner, and I am honored to speak before you as a moth-"
        ],
        [
         "8",
         "Crop Insurance Coverage vs. Input Costs",
         "17",
         "44",
         "13United States Trade Representative, ‘‘United States-Mexico-Canada Agreement,’’ https://\nustr.gov/trade-agreements/free-trade-agreements/united-states-mexico-canada-agreement.\n14United States Trade Representative, ‘‘Fact Sheet on U.S.-Japan Trade Agreement,’’ https://\nustr.gov/about-us/policy-offices/press-office/fact-sheets/2019/september/fact-sheet-us-japan-\ntrade-agreement.\n15USDA Economic Research Service, ‘‘U.S. Agricultural Trade—Outlook for U.S. Agricultural\nTrade,’’ https://www.ers.usda.gov/topics/international-markets-us-trade/us-agricultural-trade/\noutlook-for-us-agricultural-trade.\n16USDA Economic Research Service, ‘‘U.S. Agricultural Trade—Outlook for U.S. Agricultural\nTrade,’’ https://www.ers.usda.gov/topics/international-markets-us-trade/us-agricultural-trade/\noutlook-for-us-agricultural-trade."
        ],
        [
         "9",
         "SCRI Funding Recommendations",
         "46",
         "13",
         "ing or Farm Labor Housing projects on behalf of low-income tenants unable to pay\ntheir full rent.\nPolicy Recommendation\n• Congress should increase funding to this program targeted toward farm\nworker tenants.\nRural Utilities and Community Facilities Programs\nUSDA grant and loan programs for community facilities and water treatment pro-\nvide valuable resources to rural communities that often lack adequate water re-\nsources and facilities vital for the operation of specialty crop operations. Without ac-\ncess to these funds, which supplement local resources, it is often impossible for spe-\ncialty crop operations to be viable in the communities which they call home."
        ]
       ],
       "shape": {
        "columns": 4,
        "rows": 10
       }
      },
      "text/html": [
       "<div>\n",
       "<style scoped>\n",
       "    .dataframe tbody tr th:only-of-type {\n",
       "        vertical-align: middle;\n",
       "    }\n",
       "\n",
       "    .dataframe tbody tr th {\n",
       "        vertical-align: top;\n",
       "    }\n",
       "\n",
       "    .dataframe thead th {\n",
       "        text-align: right;\n",
       "    }\n",
       "</style>\n",
       "<table border=\"1\" class=\"dataframe\">\n",
       "  <thead>\n",
       "    <tr style=\"text-align: right;\">\n",
       "      <th></th>\n",
       "      <th>topic</th>\n",
       "      <th>page</th>\n",
       "      <th>line</th>\n",
       "      <th>excerpt</th>\n",
       "    </tr>\n",
       "  </thead>\n",
       "  <tbody>\n",
       "    <tr>\n",
       "      <th>0</th>\n",
       "      <td>State of the Dairy Industry</td>\n",
       "      <td>18</td>\n",
       "      <td>1</td>\n",
       "      <td>14\\nFMD—providing increased opportunities for ...</td>\n",
       "    </tr>\n",
       "    <tr>\n",
       "      <th>1</th>\n",
       "      <td>Impact of Specialty Crops on National Security</td>\n",
       "      <td>31</td>\n",
       "      <td>47</td>\n",
       "      <td>functional safety net for the very first time....</td>\n",
       "    </tr>\n",
       "    <tr>\n",
       "      <th>2</th>\n",
       "      <td>Competitiveness and Sustainability Principle</td>\n",
       "      <td>33</td>\n",
       "      <td>41</td>\n",
       "      <td>ance that would provide the majority of our gr...</td>\n",
       "    </tr>\n",
       "    <tr>\n",
       "      <th>3</th>\n",
       "      <td>Competition from Imports</td>\n",
       "      <td>30</td>\n",
       "      <td>34</td>\n",
       "      <td>The economic and disaster assistance from the ...</td>\n",
       "    </tr>\n",
       "    <tr>\n",
       "      <th>4</th>\n",
       "      <td>Agriculture Risk Coverage (ARC) and Price Loss...</td>\n",
       "      <td>17</td>\n",
       "      <td>55</td>\n",
       "      <td></td>\n",
       "    </tr>\n",
       "    <tr>\n",
       "      <th>5</th>\n",
       "      <td>Trump Administration's COVID-19 Assistance Ini...</td>\n",
       "      <td>32</td>\n",
       "      <td>5</td>\n",
       "      <td>28\\nIntroduction\\nAlthough not directly under ...</td>\n",
       "    </tr>\n",
       "    <tr>\n",
       "      <th>6</th>\n",
       "      <td>Crop Protection Tools Access</td>\n",
       "      <td>30</td>\n",
       "      <td>32</td>\n",
       "      <td>have worked for. This includes the ability to ...</td>\n",
       "    </tr>\n",
       "    <tr>\n",
       "      <th>7</th>\n",
       "      <td>Diversification of Farm Income</td>\n",
       "      <td>29</td>\n",
       "      <td>24</td>\n",
       "      <td>volatile markets. Our food system, rural commu...</td>\n",
       "    </tr>\n",
       "    <tr>\n",
       "      <th>8</th>\n",
       "      <td>Crop Insurance Coverage vs. Input Costs</td>\n",
       "      <td>17</td>\n",
       "      <td>44</td>\n",
       "      <td>13United States Trade Representative, ‘‘United...</td>\n",
       "    </tr>\n",
       "    <tr>\n",
       "      <th>9</th>\n",
       "      <td>SCRI Funding Recommendations</td>\n",
       "      <td>46</td>\n",
       "      <td>13</td>\n",
       "      <td>ing or Farm Labor Housing projects on behalf o...</td>\n",
       "    </tr>\n",
       "  </tbody>\n",
       "</table>\n",
       "</div>"
      ],
      "text/plain": [
       "                                               topic  page  line  \\\n",
       "0                        State of the Dairy Industry    18     1   \n",
       "1     Impact of Specialty Crops on National Security    31    47   \n",
       "2       Competitiveness and Sustainability Principle    33    41   \n",
       "3                           Competition from Imports    30    34   \n",
       "4  Agriculture Risk Coverage (ARC) and Price Loss...    17    55   \n",
       "5  Trump Administration's COVID-19 Assistance Ini...    32     5   \n",
       "6                       Crop Protection Tools Access    30    32   \n",
       "7                     Diversification of Farm Income    29    24   \n",
       "8            Crop Insurance Coverage vs. Input Costs    17    44   \n",
       "9                       SCRI Funding Recommendations    46    13   \n",
       "\n",
       "                                             excerpt  \n",
       "0  14\\nFMD—providing increased opportunities for ...  \n",
       "1  functional safety net for the very first time....  \n",
       "2  ance that would provide the majority of our gr...  \n",
       "3  The economic and disaster assistance from the ...  \n",
       "4                                                     \n",
       "5  28\\nIntroduction\\nAlthough not directly under ...  \n",
       "6  have worked for. This includes the ability to ...  \n",
       "7  volatile markets. Our food system, rural commu...  \n",
       "8  13United States Trade Representative, ‘‘United...  \n",
       "9  ing or Farm Labor Housing projects on behalf o...  "
      ]
     },
     "execution_count": 5,
     "metadata": {},
     "output_type": "execute_result"
    }
   ],
   "source": [
    "validation_data = []\n",
    "\n",
    "for entry in sampled_topics:\n",
    "    topic = entry[\"topic\"]\n",
    "    page = entry[\"page_start\"]\n",
    "    line = entry[\"line_start\"]\n",
    "    excerpt = get_line_window_from_pdf(pdf_path, page, line)\n",
    "    \n",
    "    validation_data.append({\n",
    "        \"topic\": topic,\n",
    "        \"page\": page,\n",
    "        \"line\": line,\n",
    "        \"excerpt\": excerpt\n",
    "    })\n",
    "\n",
    "import pandas as pd\n",
    "pd.DataFrame(validation_data)\n"
   ]
  },
  {
   "cell_type": "code",
   "execution_count": 7,
   "id": "ba460429",
   "metadata": {},
   "outputs": [],
   "source": [
    "import google.generativeai as genai\n",
    "import os\n",
    "# Set up Gemini (make sure your API key is in environment)\n",
    "genai.configure(api_key=os.getenv(\"GEMINI_API_KEY\"))\n",
    "model = genai.GenerativeModel(\"gemini-1.5-flash\")\n"
   ]
  },
  {
   "cell_type": "code",
   "execution_count": 8,
   "id": "20e1a112",
   "metadata": {},
   "outputs": [],
   "source": [
    "def validate_topic_with_gemini(topic, excerpt):\n",
    "    prompt = f\"\"\"\n",
    "You are an AI legal reviewer.\n",
    "\n",
    "Here is a snippet from a deposition transcript. Based on this, decide whether the topic \"{topic}\" is clearly introduced or discussed in the text.\n",
    "\n",
    "Text:\n",
    "\\\"\\\"\\\"\n",
    "{excerpt}\n",
    "\\\"\\\"\\\"\n",
    "\n",
    "Instructions:\n",
    "- Think step by step.\n",
    "- Justify your answer in plain language.\n",
    "- Then return one of the following verdicts at the end:\n",
    "    ✅ YES - Topic is valid\n",
    "    ❌ NO - Topic is not mentioned clearly\n",
    "\n",
    "Respond in this format:\n",
    "Reasoning: ...\n",
    "Verdict: ...\n",
    "\"\"\"\n",
    "    try:\n",
    "        response = model.generate_content(prompt)\n",
    "        return response.text\n",
    "    except Exception as e:\n",
    "        return f\"❌ Error: {e}\"\n"
   ]
  },
  {
   "cell_type": "code",
   "execution_count": 10,
   "id": "23b3301b",
   "metadata": {},
   "outputs": [
    {
     "data": {
      "application/vnd.microsoft.datawrangler.viewer.v0+json": {
       "columns": [
        {
         "name": "index",
         "rawType": "int64",
         "type": "integer"
        },
        {
         "name": "Topic",
         "rawType": "object",
         "type": "string"
        },
        {
         "name": "Page",
         "rawType": "int64",
         "type": "integer"
        },
        {
         "name": "Line",
         "rawType": "int64",
         "type": "integer"
        },
        {
         "name": "Excerpt",
         "rawType": "object",
         "type": "string"
        },
        {
         "name": "Gemini Review",
         "rawType": "object",
         "type": "string"
        }
       ],
       "ref": "99e989e3-7eec-4dc3-b170-611239e9ea13",
       "rows": [
        [
         "0",
         "State of the Dairy Industry",
         "18",
         "1",
         "14\nFMD—providing increased opportunities for farmers, ranchers and their collabo-\nrating organizations to close the gap in our agricultural trade deficit in the years\nto come.17\nUnder the current Administration, tariffs are either in effect or under consider-\nation in major U.S. agricultural export markets. Although none of these markets",
         "Reasoning: The provided text focuses on agricultural trade deficits and the impact of tariffs on US agricultural exports.  While the dairy industry is a part of the broader agricultural sector, the snippet makes no specific mention of the state of the dairy industry itself.  The text discusses general agricultural challenges, not the specific situation within the dairy industry. Therefore, the topic is not explicitly introduced or discussed.\n\nVerdict: ❌ NO - Topic is not mentioned clearly\n"
        ],
        [
         "1",
         "Impact of Specialty Crops on National Security",
         "31",
         "47",
         "functional safety net for the very first time.\nI don’t have the time to walk through each of these proposals in\nmy testimony, but we have submitted written testimony for record,\nwhich includes a copy of our 2023 recommendations. We will pro-\nvide updated recommendations to you in the coming weeks. The Al-\nliance stands ready to work with each of you on the next farm bill.\nThank you, and I look forward to answering any questions.\n[The prepared statement of Mr. Talley follows:]\nPREPAREDSTATEMENTOFRYANTALLEY, PARTNER, TALLEYFARMS, ARROYOGRANDE,\nCA; ONBEHALFOFSPECIALTYCROPFARMBILLALLIANCE\nThank you, Chairman Thompson, Ranking Member Craig, and Members of the",
         "Reasoning: The provided text is an introduction from a witness at a hearing, likely related to a farm bill.  The witness mentions \"Specialty Crop Farm Bill Alliance\" and their recommendations.  However, there is no mention whatsoever of the impact of specialty crops on national security. The text focuses solely on the farm bill and the Alliance's role in it.  The topic is not even hinted at.\n\nVerdict: ❌ NO - Topic is not mentioned clearly\n"
        ],
        [
         "2",
         "Competitiveness and Sustainability Principle",
         "33",
         "41",
         "ance that would provide the majority of our growers with a functional safety net\nfor the very first time. We are also proposing needed reforms to Federal procure-\nment rules that would increase the availability in Federal programs of the nutri-\ntious foods our growers produce and that Americans should be consuming in greater\nquantities.\nThe appendix attached to this testimony includes the 2023 Specialty Crop Farm\nBill Alliance Recommendations1 which were approved in January of that year. The\nAlliance is in the process of updating these recommendations for the new Congress,\nand we plan to provide those to you in the coming weeks. Although the new rec-\nommendations will be substantially similar to the ones we are providing today, nec-\nessary alterations are being made to reflect lessons learned and changed cir-",
         "Reasoning: The provided text focuses on proposed reforms to Federal procurement rules to increase the availability of nutritious foods.  It mentions a \"Specialty Crop Farm Bill Alliance\" and their recommendations, but there is no mention of a \"Competitiveness and Sustainability Principle\" or any discussion related to that topic. The text discusses improving the availability of nutritious food, which might relate to sustainability in an indirect way, but it does not explicitly mention or discuss the named principle.\n\nVerdict: ❌ NO - Topic is not mentioned clearly\n"
        ],
        [
         "3",
         "Competition from Imports",
         "30",
         "34",
         "The economic and disaster assistance from the year-end Continuing Resolution\nwas helpful and will provide many farm and ranch families with the ability to con-\ntinue operating for another year. We are grateful this Committee voted in a bipar-\ntisan manner to advance a modernized farm bill last year. Unfortunately, there\nwere no further outcomes. We still need Congress to take action together and agree\non significant investments in farm safety net programs to reflect current economic\nconditions as well as long term solutions for rising input costs and volatile markets.\nOur food system, rural communities, and our national security depend on it.\nThank you for the opportunity to share these challenges. I look forward to your\nquestions.\nThe CHAIRMAN. Thank you, Ms. Schwertner.",
         "Reasoning: The provided text focuses on the need for economic assistance for farmers and ranchers, highlighting rising input costs and volatile markets.  It mentions the importance of farm safety net programs and bipartisan cooperation in Congress.  However, there is no mention whatsoever of competition from imports, either directly or indirectly.  The challenges discussed are internal to the US agricultural sector and not related to international trade.\n\nVerdict: ❌ NO - Topic is not mentioned clearly\n"
        ],
        [
         "4",
         "Agriculture Risk Coverage (ARC) and Price Loss Coverage (PLC)",
         "17",
         "55",
         "",
         "Reasoning: The provided text is empty.  Therefore, there is no mention of Agriculture Risk Coverage (ARC) or Price Loss Coverage (PLC).\n\nVerdict: ❌ NO - Topic is not mentioned clearly\n"
        ],
        [
         "5",
         "Trump Administration's COVID-19 Assistance Initiatives (CFAP 2)",
         "32",
         "5",
         "28\nIntroduction\nAlthough not directly under the jurisdiction of the Agriculture Committee, I can-\nnot testify before Congress without first emphasizing how vital it is to the security\nof our nation’s food supply, and the future of specialty crop production in the United\nStates, for Congress to enact a bipartisan solution to the workforce crisis in agri-\nculture. Labor represents more than half the cost of producing many specialty crops,\nand this continually escalating expense is untenable.\nI am testifying today, however, on behalf of the Specialty Crop Farm Bill Alliance.\nA coalition of nearly two hundred organizations representing the entirety of the spe-",
         "Reasoning: The provided text excerpt is an introduction to a deposition focusing on the workforce crisis in agriculture and the Specialty Crop Farm Bill Alliance.  It makes no mention whatsoever of the Trump Administration's COVID-19 Assistance Initiatives, or CFAP 2 specifically.  There is no discussion of any government aid programs related to COVID-19 or agriculture.\n\nVerdict: ❌ NO - Topic is not mentioned clearly\n"
        ],
        [
         "6",
         "Crop Protection Tools Access",
         "30",
         "32",
         "have worked for. This includes the ability to pass on our legacy and profession to\nthe next generation. For us, that happens to be our four boys.\nThe economic and disaster assistance from the year-end Continuing Resolution\nwas helpful and will provide many farm and ranch families with the ability to con-\ntinue operating for another year. We are grateful this Committee voted in a bipar-\ntisan manner to advance a modernized farm bill last year. Unfortunately, there\nwere no further outcomes. We still need Congress to take action together and agree\non significant investments in farm safety net programs to reflect current economic\nconditions as well as long term solutions for rising input costs and volatile markets.\nOur food system, rural communities, and our national security depend on it.\nThank you for the opportunity to share these challenges. I look forward to your",
         "Reasoning: The provided deposition transcript discusses challenges faced by farm and ranch families, including rising input costs and volatile markets.  However, there is no mention of \"Crop Protection Tools Access\" specifically.  The text focuses on broader economic and assistance issues related to farming, not the availability or accessibility of specific tools.\n\nVerdict: ❌ NO - Topic is not mentioned clearly\n"
        ],
        [
         "7",
         "Diversification of Farm Income",
         "29",
         "24",
         "volatile markets. Our food system, rural communities, and our na-\ntional security depend on it.\nThank you for the opportunity to share these challenges, and I\nlook forward to your questions.\n[The prepared statement of Ms. Schwertner follows:]\nPREPAREDSTATEMENTOFALISHASCHWERTNER, OWNER, ERICANDALISHA\nSCHWERTNERFARMS, MILES, TX\nChairman Thompson, Ranking Member Craig, and Members of the House Agri-\nculture Committee, I am truly grateful for the opportunity to testify today on the\nstate of the farm economy.\nMy name is Alisha Schwertner, and I am honored to speak before you as a moth-",
         "Reasoning: The provided text is an introduction from a prepared statement given before a House Agriculture Committee.  While it mentions the \"state of the farm economy\" and acknowledges challenges related to \"volatile markets,\" it does not specifically mention or discuss \"Diversification of Farm Income.\" The statement sets the stage for a discussion about the farm economy but doesn't delve into specific strategies or issues related to income diversification.\n\nVerdict: ❌ NO - Topic is not mentioned clearly\n"
        ],
        [
         "8",
         "Crop Insurance Coverage vs. Input Costs",
         "17",
         "44",
         "13United States Trade Representative, ‘‘United States-Mexico-Canada Agreement,’’ https://\nustr.gov/trade-agreements/free-trade-agreements/united-states-mexico-canada-agreement.\n14United States Trade Representative, ‘‘Fact Sheet on U.S.-Japan Trade Agreement,’’ https://\nustr.gov/about-us/policy-offices/press-office/fact-sheets/2019/september/fact-sheet-us-japan-\ntrade-agreement.\n15USDA Economic Research Service, ‘‘U.S. Agricultural Trade—Outlook for U.S. Agricultural\nTrade,’’ https://www.ers.usda.gov/topics/international-markets-us-trade/us-agricultural-trade/\noutlook-for-us-agricultural-trade.\n16USDA Economic Research Service, ‘‘U.S. Agricultural Trade—Outlook for U.S. Agricultural\nTrade,’’ https://www.ers.usda.gov/topics/international-markets-us-trade/us-agricultural-trade/\noutlook-for-us-agricultural-trade.",
         "Reasoning: The provided text is a list of URLs referencing reports from the United States Trade Representative and the USDA Economic Research Service.  These URLs relate to trade agreements and the outlook for US agricultural trade.  There is no mention of crop insurance coverage or input costs within the text itself.  The text only provides links to external documents which may or may not contain information on those topics.\n\nVerdict: ❌ NO - Topic is not mentioned clearly\n"
        ],
        [
         "9",
         "SCRI Funding Recommendations",
         "46",
         "13",
         "ing or Farm Labor Housing projects on behalf of low-income tenants unable to pay\ntheir full rent.\nPolicy Recommendation\n• Congress should increase funding to this program targeted toward farm\nworker tenants.\nRural Utilities and Community Facilities Programs\nUSDA grant and loan programs for community facilities and water treatment pro-\nvide valuable resources to rural communities that often lack adequate water re-\nsources and facilities vital for the operation of specialty crop operations. Without ac-\ncess to these funds, which supplement local resources, it is often impossible for spe-\ncialty crop operations to be viable in the communities which they call home.",
         "Reasoning: The provided text discusses funding recommendations for farm labor housing and rural utilities/community facilities.  It focuses on increasing Congressional funding for specific USDA programs. However, there is no mention of \"SCRI Funding Recommendations.\"  The acronym SCRI is not defined, and there's no discussion of any program or initiative with that name.\n\nVerdict: ❌ NO - Topic is not mentioned clearly\n"
        ]
       ],
       "shape": {
        "columns": 5,
        "rows": 10
       }
      },
      "text/html": [
       "<div>\n",
       "<style scoped>\n",
       "    .dataframe tbody tr th:only-of-type {\n",
       "        vertical-align: middle;\n",
       "    }\n",
       "\n",
       "    .dataframe tbody tr th {\n",
       "        vertical-align: top;\n",
       "    }\n",
       "\n",
       "    .dataframe thead th {\n",
       "        text-align: right;\n",
       "    }\n",
       "</style>\n",
       "<table border=\"1\" class=\"dataframe\">\n",
       "  <thead>\n",
       "    <tr style=\"text-align: right;\">\n",
       "      <th></th>\n",
       "      <th>Topic</th>\n",
       "      <th>Page</th>\n",
       "      <th>Line</th>\n",
       "      <th>Excerpt</th>\n",
       "      <th>Gemini Review</th>\n",
       "    </tr>\n",
       "  </thead>\n",
       "  <tbody>\n",
       "    <tr>\n",
       "      <th>0</th>\n",
       "      <td>State of the Dairy Industry</td>\n",
       "      <td>18</td>\n",
       "      <td>1</td>\n",
       "      <td>14\\nFMD—providing increased opportunities for ...</td>\n",
       "      <td>Reasoning: The provided text focuses on agricu...</td>\n",
       "    </tr>\n",
       "    <tr>\n",
       "      <th>1</th>\n",
       "      <td>Impact of Specialty Crops on National Security</td>\n",
       "      <td>31</td>\n",
       "      <td>47</td>\n",
       "      <td>functional safety net for the very first time....</td>\n",
       "      <td>Reasoning: The provided text is an introductio...</td>\n",
       "    </tr>\n",
       "    <tr>\n",
       "      <th>2</th>\n",
       "      <td>Competitiveness and Sustainability Principle</td>\n",
       "      <td>33</td>\n",
       "      <td>41</td>\n",
       "      <td>ance that would provide the majority of our gr...</td>\n",
       "      <td>Reasoning: The provided text focuses on propos...</td>\n",
       "    </tr>\n",
       "    <tr>\n",
       "      <th>3</th>\n",
       "      <td>Competition from Imports</td>\n",
       "      <td>30</td>\n",
       "      <td>34</td>\n",
       "      <td>The economic and disaster assistance from the ...</td>\n",
       "      <td>Reasoning: The provided text focuses on the ne...</td>\n",
       "    </tr>\n",
       "    <tr>\n",
       "      <th>4</th>\n",
       "      <td>Agriculture Risk Coverage (ARC) and Price Loss...</td>\n",
       "      <td>17</td>\n",
       "      <td>55</td>\n",
       "      <td></td>\n",
       "      <td>Reasoning: The provided text is empty.  Theref...</td>\n",
       "    </tr>\n",
       "    <tr>\n",
       "      <th>5</th>\n",
       "      <td>Trump Administration's COVID-19 Assistance Ini...</td>\n",
       "      <td>32</td>\n",
       "      <td>5</td>\n",
       "      <td>28\\nIntroduction\\nAlthough not directly under ...</td>\n",
       "      <td>Reasoning: The provided text excerpt is an int...</td>\n",
       "    </tr>\n",
       "    <tr>\n",
       "      <th>6</th>\n",
       "      <td>Crop Protection Tools Access</td>\n",
       "      <td>30</td>\n",
       "      <td>32</td>\n",
       "      <td>have worked for. This includes the ability to ...</td>\n",
       "      <td>Reasoning: The provided deposition transcript ...</td>\n",
       "    </tr>\n",
       "    <tr>\n",
       "      <th>7</th>\n",
       "      <td>Diversification of Farm Income</td>\n",
       "      <td>29</td>\n",
       "      <td>24</td>\n",
       "      <td>volatile markets. Our food system, rural commu...</td>\n",
       "      <td>Reasoning: The provided text is an introductio...</td>\n",
       "    </tr>\n",
       "    <tr>\n",
       "      <th>8</th>\n",
       "      <td>Crop Insurance Coverage vs. Input Costs</td>\n",
       "      <td>17</td>\n",
       "      <td>44</td>\n",
       "      <td>13United States Trade Representative, ‘‘United...</td>\n",
       "      <td>Reasoning: The provided text is a list of URLs...</td>\n",
       "    </tr>\n",
       "    <tr>\n",
       "      <th>9</th>\n",
       "      <td>SCRI Funding Recommendations</td>\n",
       "      <td>46</td>\n",
       "      <td>13</td>\n",
       "      <td>ing or Farm Labor Housing projects on behalf o...</td>\n",
       "      <td>Reasoning: The provided text discusses funding...</td>\n",
       "    </tr>\n",
       "  </tbody>\n",
       "</table>\n",
       "</div>"
      ],
      "text/plain": [
       "                                               Topic  Page  Line  \\\n",
       "0                        State of the Dairy Industry    18     1   \n",
       "1     Impact of Specialty Crops on National Security    31    47   \n",
       "2       Competitiveness and Sustainability Principle    33    41   \n",
       "3                           Competition from Imports    30    34   \n",
       "4  Agriculture Risk Coverage (ARC) and Price Loss...    17    55   \n",
       "5  Trump Administration's COVID-19 Assistance Ini...    32     5   \n",
       "6                       Crop Protection Tools Access    30    32   \n",
       "7                     Diversification of Farm Income    29    24   \n",
       "8            Crop Insurance Coverage vs. Input Costs    17    44   \n",
       "9                       SCRI Funding Recommendations    46    13   \n",
       "\n",
       "                                             Excerpt  \\\n",
       "0  14\\nFMD—providing increased opportunities for ...   \n",
       "1  functional safety net for the very first time....   \n",
       "2  ance that would provide the majority of our gr...   \n",
       "3  The economic and disaster assistance from the ...   \n",
       "4                                                      \n",
       "5  28\\nIntroduction\\nAlthough not directly under ...   \n",
       "6  have worked for. This includes the ability to ...   \n",
       "7  volatile markets. Our food system, rural commu...   \n",
       "8  13United States Trade Representative, ‘‘United...   \n",
       "9  ing or Farm Labor Housing projects on behalf o...   \n",
       "\n",
       "                                       Gemini Review  \n",
       "0  Reasoning: The provided text focuses on agricu...  \n",
       "1  Reasoning: The provided text is an introductio...  \n",
       "2  Reasoning: The provided text focuses on propos...  \n",
       "3  Reasoning: The provided text focuses on the ne...  \n",
       "4  Reasoning: The provided text is empty.  Theref...  \n",
       "5  Reasoning: The provided text excerpt is an int...  \n",
       "6  Reasoning: The provided deposition transcript ...  \n",
       "7  Reasoning: The provided text is an introductio...  \n",
       "8  Reasoning: The provided text is a list of URLs...  \n",
       "9  Reasoning: The provided text discusses funding...  "
      ]
     },
     "execution_count": 10,
     "metadata": {},
     "output_type": "execute_result"
    }
   ],
   "source": [
    "results = []\n",
    "for item in validation_data:\n",
    "    result = validate_topic_with_gemini(item[\"topic\"], item[\"excerpt\"])\n",
    "    results.append({\n",
    "        \"Topic\": item[\"topic\"],\n",
    "        \"Page\": item[\"page\"],\n",
    "        \"Line\": item[\"line\"],\n",
    "        \"Excerpt\": item[\"excerpt\"],\n",
    "        \"Gemini Review\": result\n",
    "    })\n",
    "\n",
    "df_results = pd.DataFrame(results)\n",
    "df_results.to_csv(\"../data/validation_results.csv\", index=False)\n",
    "df_results\n"
   ]
  },
  {
   "cell_type": "code",
   "execution_count": 11,
   "id": "be097853",
   "metadata": {},
   "outputs": [
    {
     "name": "stdout",
     "output_type": "stream",
     "text": [
      "✅ 0 / 10 topics matched\n",
      "🎯 Validation Accuracy: 0.00%\n"
     ]
    }
   ],
   "source": [
    "# Count accurate entries based on Gemini verdict\n",
    "valid_count = sum(\"✅\" in r[\"Gemini Review\"] for r in results)\n",
    "total = len(results)\n",
    "accuracy = (valid_count / total) * 100\n",
    "\n",
    "print(f\"✅ {valid_count} / {total} topics matched\")\n",
    "print(f\"🎯 Validation Accuracy: {accuracy:.2f}%\")\n"
   ]
  },
  {
   "cell_type": "code",
   "execution_count": null,
   "id": "cad16ea4",
   "metadata": {},
   "outputs": [],
   "source": []
  }
 ],
 "metadata": {
  "kernelspec": {
   "display_name": "Intern",
   "language": "python",
   "name": "python3"
  },
  "language_info": {
   "codemirror_mode": {
    "name": "ipython",
    "version": 3
   },
   "file_extension": ".py",
   "mimetype": "text/x-python",
   "name": "python",
   "nbconvert_exporter": "python",
   "pygments_lexer": "ipython3",
   "version": "3.12.9"
  }
 },
 "nbformat": 4,
 "nbformat_minor": 5
}
